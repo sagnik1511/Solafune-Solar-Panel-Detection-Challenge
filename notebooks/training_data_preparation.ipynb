{
 "cells": [
  {
   "cell_type": "markdown",
   "metadata": {},
   "source": [
    "# Trainable Data Preparation"
   ]
  },
  {
   "cell_type": "code",
   "execution_count": 1,
   "metadata": {},
   "outputs": [],
   "source": [
    "import numpy as np\n",
    "from glob import glob\n",
    "from tqdm import tqdm\n",
    "from tifffile import TiffFile\n",
    "import matplotlib.pyplot as plt"
   ]
  },
  {
   "cell_type": "code",
   "execution_count": 2,
   "metadata": {},
   "outputs": [],
   "source": [
    "def prepare_npy_data_from_tif(mask_path):\n",
    "    with TiffFile(mask_path) as mask_file:\n",
    "        return mask_file.asarray()\n",
    "\n",
    "def prepare_data(tif_directory, destination_directory):\n",
    "    files = glob(f\"{tif_directory}/*tif\")\n",
    "    for path in tqdm(files, desc=f\"Writing files from {tif_directory} to {destination_directory}\"):\n",
    "        np_data = prepare_npy_data_from_tif(path)\n",
    "        op_file_name = path.split(\"/\")[-1].split(\"\\\\\")[-1].split(\".\")[0].split(\"_\")[-1]\n",
    "        with open(f\"{destination_directory}/{op_file_name}.npy\", \"wb\") as f:\n",
    "            np.save(f, np_data)"
   ]
  },
  {
   "cell_type": "code",
   "execution_count": 3,
   "metadata": {},
   "outputs": [
    {
     "name": "stderr",
     "output_type": "stream",
     "text": [
      "Writing files from E:/solafune/train/s2_image to E:/solafune/data/train/images:   0%|          | 0/2066 [00:00<?, ?it/s]"
     ]
    },
    {
     "name": "stderr",
     "output_type": "stream",
     "text": [
      "Writing files from E:/solafune/train/s2_image to E:/solafune/data/train/images: 100%|██████████| 2066/2066 [00:20<00:00, 103.10it/s]\n",
      "Writing files from E:/solafune/evaluation to E:/solafune/data/eval/images: 100%|██████████| 2066/2066 [00:20<00:00, 101.40it/s]\n",
      "Writing files from E:/solafune/train/mask to E:/solafune/data/train/masks: 100%|██████████| 2066/2066 [00:18<00:00, 113.14it/s]\n",
      "Writing files from E:/solafune/sample to E:/solafune/data/eval/masks: 100%|██████████| 2066/2066 [00:04<00:00, 422.17it/s]\n"
     ]
    }
   ],
   "source": [
    "prepare_data(\"E:/solafune/train/s2_image\", \"E:/solafune/data/train/images\")\n",
    "prepare_data(\"E:/solafune/evaluation\", \"E:/solafune/data/eval/images\")\n",
    "prepare_data(\"E:/solafune/train/mask\", \"E:/solafune/data/train/masks\")\n",
    "prepare_data(\"E:/solafune/sample\", \"E:/solafune/data/eval/masks\")"
   ]
  },
  {
   "cell_type": "code",
   "execution_count": 5,
   "metadata": {},
   "outputs": [
    {
     "data": {
      "text/plain": [
       "(24, 24, 12)"
      ]
     },
     "execution_count": 5,
     "metadata": {},
     "output_type": "execute_result"
    }
   ],
   "source": [
    "sample_image_np_data_path = \"E:/solafune/data/train/images/3.npy\"\n",
    "\n",
    "data = np.load(sample_image_np_data_path)\n",
    "data.shape"
   ]
  },
  {
   "cell_type": "code",
   "execution_count": 6,
   "metadata": {},
   "outputs": [
    {
     "name": "stderr",
     "output_type": "stream",
     "text": [
      "100%|██████████| 2066/2066 [00:13<00:00, 154.80it/s]\n"
     ]
    },
    {
     "name": "stdout",
     "output_type": "stream",
     "text": [
      "Different shapes at data/train/images : {(24, 23, 12), (24, 24, 12), (23, 22, 12), (22, 23, 12), (25, 24, 12), (26, 25, 12), (25, 26, 12), (22, 22, 12), (23, 23, 12), (24, 25, 12), (23, 24, 12), (25, 25, 12), (26, 26, 12)}\n"
     ]
    },
    {
     "name": "stderr",
     "output_type": "stream",
     "text": [
      "100%|██████████| 2066/2066 [00:08<00:00, 240.36it/s]\n"
     ]
    },
    {
     "name": "stdout",
     "output_type": "stream",
     "text": [
      "Different shapes at data/train/masks : {(23, 23), (24, 23), (25, 25), (22, 23), (26, 26), (23, 22), (24, 25), (25, 24), (26, 25), (23, 24), (22, 22), (25, 26), (24, 24)}\n"
     ]
    },
    {
     "name": "stderr",
     "output_type": "stream",
     "text": [
      "100%|██████████| 2066/2066 [00:12<00:00, 167.64it/s]"
     ]
    },
    {
     "name": "stdout",
     "output_type": "stream",
     "text": [
      "Different shapes at data/eval/images : {(24, 23, 12), (24, 24, 12), (23, 22, 12), (22, 23, 12), (25, 24, 12), (26, 25, 12), (25, 26, 12), (22, 22, 12), (23, 23, 12), (24, 25, 12), (23, 24, 12), (25, 25, 12), (26, 26, 12)}\n"
     ]
    },
    {
     "name": "stderr",
     "output_type": "stream",
     "text": [
      "\n"
     ]
    }
   ],
   "source": [
    "for folder in [\"train\", \"eval\"]:\n",
    "    for folder_type in [\"images\", \"masks\"]:\n",
    "        if folder == \"eval\" and folder_type == \"masks\":\n",
    "            continue\n",
    "        else:\n",
    "            file_paths = glob(f\"data/{folder}/{folder_type}/*.npy\")\n",
    "            shape_set = []\n",
    "            for fp in tqdm(file_paths):\n",
    "                buffer = np.load(fp)\n",
    "                shape_set.append(buffer.shape)\n",
    "            shape_set = set(shape_set)\n",
    "            print(f\"Different shapes at data/{folder}/{folder_type} : {shape_set}\")"
   ]
  }
 ],
 "metadata": {
  "kernelspec": {
   "display_name": "sf",
   "language": "python",
   "name": "python3"
  },
  "language_info": {
   "codemirror_mode": {
    "name": "ipython",
    "version": 3
   },
   "file_extension": ".py",
   "mimetype": "text/x-python",
   "name": "python",
   "nbconvert_exporter": "python",
   "pygments_lexer": "ipython3",
   "version": "3.9.13"
  },
  "orig_nbformat": 4
 },
 "nbformat": 4,
 "nbformat_minor": 2
}
